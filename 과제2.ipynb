{
 "cells": [
  {
   "cell_type": "code",
   "execution_count": 42,
   "id": "cab22170-bf4f-4585-95b0-6f47bef96c1a",
   "metadata": {},
   "outputs": [],
   "source": [
    "subjects = ['physics', 'calculus', 'poetry', 'history']"
   ]
  },
  {
   "cell_type": "code",
   "execution_count": 43,
   "id": "402c9de7-0a51-40f3-bd47-d9e45f8bf91a",
   "metadata": {},
   "outputs": [],
   "source": [
    "grades = [98, 97, 85, 88]"
   ]
  },
  {
   "cell_type": "code",
   "execution_count": 44,
   "id": "a2591814-673e-4df8-be28-bf7dede393df",
   "metadata": {},
   "outputs": [],
   "source": [
    "gradebook_list =[['physics', 98],\n",
    "                 ['calculus', 97],\n",
    "                 ['poetry', 85],\n",
    "                 ['history', 88]]"
   ]
  },
  {
   "cell_type": "code",
   "execution_count": 45,
   "id": "866302ea-dcd1-479d-92e9-14feffb6b3c4",
   "metadata": {},
   "outputs": [
    {
     "data": {
      "text/plain": [
       "[['physics', 98], ['calculus', 97], ['poetry', 85], ['history', 88]]"
      ]
     },
     "execution_count": 45,
     "metadata": {},
     "output_type": "execute_result"
    }
   ],
   "source": [
    "gradebook_list"
   ]
  },
  {
   "cell_type": "code",
   "execution_count": 46,
   "id": "11fc218a-563f-4f37-9447-2b783f0ddd0d",
   "metadata": {},
   "outputs": [],
   "source": [
    "gradebook_list.append(['computer science', 100])"
   ]
  },
  {
   "cell_type": "code",
   "execution_count": 47,
   "id": "e2b9aaa0-c594-41f2-9cd3-3c595c3e3daa",
   "metadata": {},
   "outputs": [],
   "source": [
    "gradebook_list.append(['visual arts', 93])"
   ]
  },
  {
   "cell_type": "code",
   "execution_count": 48,
   "id": "e646ae9e-28bd-463b-ad1a-237715ada6cb",
   "metadata": {},
   "outputs": [
    {
     "data": {
      "text/plain": [
       "[['physics', 98],\n",
       " ['calculus', 97],\n",
       " ['poetry', 85],\n",
       " ['history', 88],\n",
       " ['computer science', 100],\n",
       " ['visual arts', 93]]"
      ]
     },
     "execution_count": 48,
     "metadata": {},
     "output_type": "execute_result"
    }
   ],
   "source": [
    "gradebook_list"
   ]
  },
  {
   "cell_type": "code",
   "execution_count": 51,
   "id": "738410ad-9a33-4da5-ac43-ddc10b443963",
   "metadata": {},
   "outputs": [],
   "source": [
    " gradebook_list[5][1] = 98"
   ]
  },
  {
   "cell_type": "code",
   "execution_count": 52,
   "id": "959040b3-2f5b-4fc4-8263-212efcd7334b",
   "metadata": {},
   "outputs": [
    {
     "data": {
      "text/plain": [
       "[['physics', 98],\n",
       " ['calculus', 97],\n",
       " ['poetry', 85],\n",
       " ['history', 88],\n",
       " ['computer science', 100],\n",
       " ['visual arts', 98]]"
      ]
     },
     "execution_count": 52,
     "metadata": {},
     "output_type": "execute_result"
    }
   ],
   "source": [
    "gradebook_list"
   ]
  },
  {
   "cell_type": "code",
   "execution_count": 59,
   "id": "b9b95b0e-19e0-411f-9196-f12652307265",
   "metadata": {},
   "outputs": [],
   "source": [
    "gradebook_list.remove(['poetry', 85])"
   ]
  },
  {
   "cell_type": "code",
   "execution_count": 61,
   "id": "f150d411-a141-45b2-9526-2a4de0bbd58a",
   "metadata": {},
   "outputs": [],
   "source": [
    "gradebook_list.append(['poetry', 'pass'])"
   ]
  },
  {
   "cell_type": "code",
   "execution_count": 62,
   "id": "6c1517c7-d23e-4743-a4e7-65ebdfd6a2c9",
   "metadata": {},
   "outputs": [
    {
     "data": {
      "text/plain": [
       "[['physics', 98],\n",
       " ['calculus', 97],\n",
       " ['history', 88],\n",
       " ['computer science', 100],\n",
       " ['visual arts', 98],\n",
       " ['poetry', 'pass']]"
      ]
     },
     "execution_count": 62,
     "metadata": {},
     "output_type": "execute_result"
    }
   ],
   "source": [
    "gradebook_list"
   ]
  },
  {
   "cell_type": "code",
   "execution_count": 63,
   "id": "5c73ec94-67ee-444e-8d27-fcd682499ddd",
   "metadata": {},
   "outputs": [],
   "source": [
    "gradebook_list.remove(['poetry', 'pass'])"
   ]
  },
  {
   "cell_type": "code",
   "execution_count": 65,
   "id": "b471f921-220d-4933-a5ea-53375f257330",
   "metadata": {},
   "outputs": [],
   "source": [
    "gradebook_list.insert(2, ['poetry', 'pass'])\n"
   ]
  },
  {
   "cell_type": "code",
   "execution_count": 66,
   "id": "00fbf765-be62-4578-82e1-26a4e141e949",
   "metadata": {},
   "outputs": [
    {
     "data": {
      "text/plain": [
       "[['physics', 98],\n",
       " ['calculus', 97],\n",
       " ['poetry', 'pass'],\n",
       " ['history', 88],\n",
       " ['computer science', 100],\n",
       " ['visual arts', 98]]"
      ]
     },
     "execution_count": 66,
     "metadata": {},
     "output_type": "execute_result"
    }
   ],
   "source": [
    "gradebook_list"
   ]
  },
  {
   "cell_type": "code",
   "execution_count": 67,
   "id": "94e7bb19-f3ce-4be1-a5ac-05ddc3e399e4",
   "metadata": {},
   "outputs": [],
   "source": [
    "last_semester_gradebook = [[\"politics\", 80], [\"latin\", 96], [\"dance\", 97], [\"architecture\", 65]]"
   ]
  },
  {
   "cell_type": "code",
   "execution_count": 70,
   "id": "5472e198-003a-42ad-838d-4bc4e54f8f2c",
   "metadata": {},
   "outputs": [],
   "source": [
    "full_gradebook = last_semester_gradebook + gradebook_list "
   ]
  },
  {
   "cell_type": "code",
   "execution_count": 71,
   "id": "47a448a6-ed35-47fd-95ab-c0af8fa41f67",
   "metadata": {},
   "outputs": [
    {
     "data": {
      "text/plain": [
       "[['politics', 80],\n",
       " ['latin', 96],\n",
       " ['dance', 97],\n",
       " ['architecture', 65],\n",
       " ['physics', 98],\n",
       " ['calculus', 97],\n",
       " ['poetry', 'pass'],\n",
       " ['history', 88],\n",
       " ['computer science', 100],\n",
       " ['visual arts', 98]]"
      ]
     },
     "execution_count": 71,
     "metadata": {},
     "output_type": "execute_result"
    }
   ],
   "source": [
    "full_gradebook"
   ]
  },
  {
   "cell_type": "code",
   "execution_count": null,
   "id": "e6328f61-f454-4fb1-a2d0-f6648ecc69e9",
   "metadata": {},
   "outputs": [],
   "source": []
  }
 ],
 "metadata": {
  "kernelspec": {
   "display_name": "Python 3 (ipykernel)",
   "language": "python",
   "name": "python3"
  },
  "language_info": {
   "codemirror_mode": {
    "name": "ipython",
    "version": 3
   },
   "file_extension": ".py",
   "mimetype": "text/x-python",
   "name": "python",
   "nbconvert_exporter": "python",
   "pygments_lexer": "ipython3",
   "version": "3.12.4"
  }
 },
 "nbformat": 4,
 "nbformat_minor": 5
}
