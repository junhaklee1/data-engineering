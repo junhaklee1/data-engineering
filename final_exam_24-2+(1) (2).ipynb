{
 "cells": [
  {
   "cell_type": "markdown",
   "id": "c8cd5c30-dfba-4cf4-80d3-282d897e5199",
   "metadata": {},
   "source": [
    "# **24년도 2학기 데이터엔지니어링 시험**\n",
    "+ **시험일시**: 2024년 12월 10일 오전 9시 30분 ~ 10시 45분\n",
    "+ **학번**:\n",
    "+ **성명**:\n",
    "+ **별명**: *시험 점수 확인을 원하시는 경우에만 기재*"
   ]
  },
  {
   "cell_type": "markdown",
   "id": "8f0284e0-b2dd-4a84-89fc-913652570d24",
   "metadata": {},
   "source": [
    "### **시험 안내사항(필수!)**"
   ]
  },
  {
   "cell_type": "markdown",
   "id": "bbcf6021-eb30-4afb-8d24-5cc01eb81224",
   "metadata": {},
   "source": [
    "+ 시험 중에 주피터 노트북 수시로 저장: Ctrl + S\n",
    "+ 시험 파일 폴더에 data 폴더 외의 다른 파일 및 폴더는 모두 삭제 또는 다른 폴더로 이동\n",
    "+ LMS 최종 제출 전에 파일 반드시 확인할 것"
   ]
  },
  {
   "cell_type": "markdown",
   "id": "f37139f1-1fb9-4fb1-b0c7-6fa3c861af39",
   "metadata": {
    "tags": []
   },
   "source": [
    "### **[부록: 메서드(함수) 및 문법]**"
   ]
  },
  {
   "cell_type": "markdown",
   "id": "276d694a-a57f-4f5e-a99e-d69c6c57e8b3",
   "metadata": {
    "jp-MarkdownHeadingCollapsed": true
   },
   "source": [
    "#### **NumPy**\n",
    "+ np.**nan**: NaN(Not a Number) 값 또는 결측치 표현\n",
    "+ np.**abs**( ): 절댓값을 반환\n",
    "+ np.**array**( ): NumPy 배열 생성\n",
    "    + 예: np.array([1, 2, 3])\n",
    "+ np.**log**( ): 밑이 e(자연 상수)인 로그 함수\n",
    "+ np.**log2**( ): 밑이 2인 로그 함수\n",
    "+ np.**log10**( ): 밑이 10인 로그 함수(상용 로그)\n",
    "+ np.**mean**( ): 평균값을 반환\n",
    "+ np.**sum**( ): 총합을 집계 및 반환\n",
    "\n",
    "#### **Pandas**\n",
    "+ pd.**Series**(*object*, *index*): Series 객체 생성\n",
    "    + 예: pd.Series([0, 1, 2], index=['a','b','c'])\n",
    "+ pd.**DataFrame**(*object*, *index*): DataFrame 객체 생성\n",
    "    + 예: pd.DataFrame(data, index=['a', 'b', 'c', 'd'])\n",
    "+ pd.**DatetimeIndex**( ): 시간(Timestamp)으로 이루어진 배열을 생성\n",
    "+ pd.**concat**(*objs*, *axis*, *join*, *ignore_index*, *verify_integrity*): 객체를 연결\n",
    "    + *objs*: 연결할 객체들\n",
    "    + *axis*: 연산을 수행하는 차원\n",
    "    + *join*: 조인연산 유형\n",
    "    + *ignore_index*=True: 기존 인덱스를 무시하고 객체를 연결한 후 다시 인덱스를 재생성\n",
    "    + *verify_integrity*=True: 인덱스 중복될 경우 에러를 발생\n",
    "+ pd.**date_range**(*start*, *end*, *freq*): Timestamp로 이루어진 정규 시퀀스 생성\n",
    "    + *start*: 시작 일시\n",
    "    + *end*: 종료 일시\n",
    "    + *freq*: 시간 빈도\n",
    "+ pd.**period_range**(*start*, *end*, *freq*): Period로 이루어진 정규 시퀀스 생성\n",
    "+ pd.**read_csv**(*filepath*, *index* ): CSV 파일로부터 DataFrame 객체를 생성\n",
    "    + *filepath*: 경로 및 파일명\n",
    "    + *index*: 인덱스\n",
    "\n",
    "**Pandas 객체 속성 및 메서드**\n",
    "\n",
    "다음은 **DataFrame**과 **Series** 객체에 *모두 사용 가능한* 속성 및 메서드입니다.\n",
    "+ pd.DataFrame.**values**: pandas 객체로부터 값 집합을 얻기(`np.ndarray` 객체)\n",
    "+ pd.DataFrame.**index**: pandas 객체로부터 인덱스 집합을 얻기(`np.ndarray` 객체)\n",
    "+ pd.DataFrame.**iloc**: 정수 기반 인덱서\n",
    "    + 예: df.iloc[1]\n",
    "+ pd.DataFrame.**loc**: 레이블 기반 인덱서\n",
    "    + 예: df.loc[(df > 0.1) & (df < 0.5)]\n",
    "    + 예: df.loc['a':'z']\n",
    "+ pd.DataFrame.**copy**( ): 객체 복사본 생성\n",
    "+ pd.DataFrame.**dropna**(*axis*, *how*, *thresh*): 결측치를 포함하는 행(또는 열)을 삭제\n",
    "    + *axis*: 연산을 수행하는 차원\n",
    "    + *how*=any: 결측치를 한 개라도 포함하는 행(또는 열)을 삭제\n",
    "    + *how*=all: 해당 행(또는 열)의 데이터가 모두 결측치인 경우에 해당 삭제\n",
    "+ pd.DataFrame.index.**isin**(*values*): 각 인덱스 값이 인자 값 집합에 있는지 여부의 부울 배열을 계산\n",
    "    + 예: ser_one.index.isin(ser_two.index)\n",
    "+ pd.DataFrame.**interpolate**(*inplace*=True): 선형 보간 처리 후 원본 파일 덮어쓰기\n",
    "    + *inplace*=True: 연산 결과를 해당 객체에 덮어쓰기\n",
    "+ pd.Series.**max**( ): 최대값을 반환\n",
    "+ pd.Series.**min**( ): 최소값을 반환\n",
    "+ pd.Series.**mean**( ): 평균값을 반환\n",
    "+ pd.Series.**std**( ): 표준편차를 반환\n",
    "+ pd.Series.**quantile**(*p*): 백분위수 구하기\n",
    "    + 예: ser.quantile(0.1): 하위 10%의 데이터 "
   ]
  },
  {
   "cell_type": "markdown",
   "id": "3f29587e-a22a-4894-b6e8-07fc975f7a31",
   "metadata": {},
   "source": [
    "### **시험에 필요한 주요 라이브러리 불러오기**"
   ]
  },
  {
   "cell_type": "code",
   "execution_count": 1,
   "id": "ec2227ad-5d56-480e-bf11-2ec459204184",
   "metadata": {},
   "outputs": [],
   "source": [
    "import numpy as np\n",
    "import pandas as pd\n",
    "from datetime import datetime\n",
    "from matplotlib import pyplot as plt\n",
    "import seaborn as sns"
   ]
  },
  {
   "cell_type": "markdown",
   "id": "483ca3d5-d252-40ff-8b80-7161443c3836",
   "metadata": {},
   "source": [
    "### **문제: 시애틀 강수량**\n",
    "---\n",
    "다음의 지시문에 따라 시애틀 강수량에 대해 분석하는 코드를 완성하세요."
   ]
  },
  {
   "cell_type": "markdown",
   "id": "09eac913-ca76-4b11-b4c3-dd891a05ed1a",
   "metadata": {},
   "source": [
    "#### **[+] 시애틀 2014 강수량 데이터를 읽어오기**\n",
    "+ 경로 및 파일명: `\n",
    "+ 저장할 데이터 유형: AirQualityUCI_refined.csv`pd.DataFrame`"
   ]
  },
  {
   "cell_type": "code",
   "execution_count": 57,
   "id": "f4ed3cc1-44fc-4e8c-986f-68d3523c1a26",
   "metadata": {},
   "outputs": [
    {
     "data": {
      "text/html": [
       "<div>\n",
       "<style scoped>\n",
       "    .dataframe tbody tr th:only-of-type {\n",
       "        vertical-align: middle;\n",
       "    }\n",
       "\n",
       "    .dataframe tbody tr th {\n",
       "        vertical-align: top;\n",
       "    }\n",
       "\n",
       "    .dataframe thead th {\n",
       "        text-align: right;\n",
       "    }\n",
       "</style>\n",
       "<table border=\"1\" class=\"dataframe\">\n",
       "  <thead>\n",
       "    <tr style=\"text-align: right;\">\n",
       "      <th></th>\n",
       "      <th>Datetime</th>\n",
       "      <th>CO(GT)</th>\n",
       "      <th>PT08.S1(CO)</th>\n",
       "      <th>PT08.S2(NMHC)</th>\n",
       "      <th>NOx(GT)</th>\n",
       "      <th>PT08.S3(NOx)</th>\n",
       "      <th>NO2(GT)</th>\n",
       "      <th>PT08.S4(NO2)</th>\n",
       "      <th>PT08.S5(O3)</th>\n",
       "      <th>RH</th>\n",
       "      <th>AH</th>\n",
       "      <th>C6H6(GT)</th>\n",
       "    </tr>\n",
       "  </thead>\n",
       "  <tbody>\n",
       "    <tr>\n",
       "      <th>0</th>\n",
       "      <td>2004-03-10 18:00:00</td>\n",
       "      <td>2.6</td>\n",
       "      <td>1360.0</td>\n",
       "      <td>1046.0</td>\n",
       "      <td>166.0</td>\n",
       "      <td>1056.0</td>\n",
       "      <td>113.0</td>\n",
       "      <td>1692.0</td>\n",
       "      <td>1268.0</td>\n",
       "      <td>48.9</td>\n",
       "      <td>0.7578</td>\n",
       "      <td>11.9</td>\n",
       "    </tr>\n",
       "    <tr>\n",
       "      <th>1</th>\n",
       "      <td>2004-03-10 19:00:00</td>\n",
       "      <td>2.0</td>\n",
       "      <td>1292.0</td>\n",
       "      <td>955.0</td>\n",
       "      <td>103.0</td>\n",
       "      <td>1174.0</td>\n",
       "      <td>92.0</td>\n",
       "      <td>1559.0</td>\n",
       "      <td>972.0</td>\n",
       "      <td>47.7</td>\n",
       "      <td>0.7255</td>\n",
       "      <td>9.4</td>\n",
       "    </tr>\n",
       "    <tr>\n",
       "      <th>2</th>\n",
       "      <td>2004-03-10 20:00:00</td>\n",
       "      <td>2.2</td>\n",
       "      <td>1402.0</td>\n",
       "      <td>939.0</td>\n",
       "      <td>131.0</td>\n",
       "      <td>1140.0</td>\n",
       "      <td>114.0</td>\n",
       "      <td>1555.0</td>\n",
       "      <td>1074.0</td>\n",
       "      <td>54.0</td>\n",
       "      <td>0.7502</td>\n",
       "      <td>9.0</td>\n",
       "    </tr>\n",
       "    <tr>\n",
       "      <th>3</th>\n",
       "      <td>2004-03-10 21:00:00</td>\n",
       "      <td>2.2</td>\n",
       "      <td>1376.0</td>\n",
       "      <td>948.0</td>\n",
       "      <td>172.0</td>\n",
       "      <td>1092.0</td>\n",
       "      <td>122.0</td>\n",
       "      <td>1584.0</td>\n",
       "      <td>1203.0</td>\n",
       "      <td>60.0</td>\n",
       "      <td>0.7867</td>\n",
       "      <td>9.2</td>\n",
       "    </tr>\n",
       "    <tr>\n",
       "      <th>4</th>\n",
       "      <td>2004-03-10 22:00:00</td>\n",
       "      <td>1.6</td>\n",
       "      <td>1272.0</td>\n",
       "      <td>836.0</td>\n",
       "      <td>131.0</td>\n",
       "      <td>1205.0</td>\n",
       "      <td>116.0</td>\n",
       "      <td>1490.0</td>\n",
       "      <td>1110.0</td>\n",
       "      <td>59.6</td>\n",
       "      <td>0.7888</td>\n",
       "      <td>6.5</td>\n",
       "    </tr>\n",
       "  </tbody>\n",
       "</table>\n",
       "</div>"
      ],
      "text/plain": [
       "              Datetime  CO(GT)  PT08.S1(CO)  PT08.S2(NMHC)  NOx(GT)  \\\n",
       "0  2004-03-10 18:00:00     2.6       1360.0         1046.0    166.0   \n",
       "1  2004-03-10 19:00:00     2.0       1292.0          955.0    103.0   \n",
       "2  2004-03-10 20:00:00     2.2       1402.0          939.0    131.0   \n",
       "3  2004-03-10 21:00:00     2.2       1376.0          948.0    172.0   \n",
       "4  2004-03-10 22:00:00     1.6       1272.0          836.0    131.0   \n",
       "\n",
       "   PT08.S3(NOx)  NO2(GT)  PT08.S4(NO2)  PT08.S5(O3)    RH      AH  C6H6(GT)  \n",
       "0        1056.0    113.0        1692.0       1268.0  48.9  0.7578      11.9  \n",
       "1        1174.0     92.0        1559.0        972.0  47.7  0.7255       9.4  \n",
       "2        1140.0    114.0        1555.0       1074.0  54.0  0.7502       9.0  \n",
       "3        1092.0    122.0        1584.0       1203.0  60.0  0.7867       9.2  \n",
       "4        1205.0    116.0        1490.0       1110.0  59.6  0.7888       6.5  "
      ]
     },
     "execution_count": 57,
     "metadata": {},
     "output_type": "execute_result"
    }
   ],
   "source": [
    "df = pd.read_csv('data/AirQualityUCI_refined.csv')\n",
    "df.head()"
   ]
  },
  {
   "cell_type": "markdown",
   "id": "ce058bdf-42b7-4835-912a-96a114c95a63",
   "metadata": {},
   "source": [
    "#### **[+] 강수량 변수(PRCP)의 값만 저장하기**\n",
    "+ 변수명: `PRCP`\n",
    "+ 저장할 데이터 유형: `np.ndarray`"
   ]
  },
  {
   "cell_type": "code",
   "execution_count": 49,
   "id": "01573536-666e-4f29-a50f-c3d960d50f90",
   "metadata": {},
   "outputs": [],
   "source": [
    "prcp = np.ndarray"
   ]
  },
  {
   "cell_type": "markdown",
   "id": "e1866282-c708-4a89-8ab1-793be6b7ef90",
   "metadata": {},
   "source": [
    "#### **강수량을 인치(inch) 단위로 변환**"
   ]
  },
  {
   "cell_type": "code",
   "execution_count": 50,
   "id": "4639b587-c227-40a0-b418-7359f6b94737",
   "metadata": {},
   "outputs": [
    {
     "ename": "TypeError",
     "evalue": "unsupported operand type(s) for /: 'type' and 'float'",
     "output_type": "error",
     "traceback": [
      "\u001b[1;31m---------------------------------------------------------------------------\u001b[0m",
      "\u001b[1;31mTypeError\u001b[0m                                 Traceback (most recent call last)",
      "Cell \u001b[1;32mIn[50], line 1\u001b[0m\n\u001b[1;32m----> 1\u001b[0m prcp \u001b[38;5;241m=\u001b[39m prcp \u001b[38;5;241m/\u001b[39m \u001b[38;5;241m254.0\u001b[39m  \u001b[38;5;66;03m# 인치(inch) 단위로 변환\u001b[39;00m\n\u001b[0;32m      2\u001b[0m prcp[:\u001b[38;5;241m10\u001b[39m]\n",
      "\u001b[1;31mTypeError\u001b[0m: unsupported operand type(s) for /: 'type' and 'float'"
     ]
    }
   ],
   "source": [
    "prcp = prcp / 254.0  # 인치(inch) 단위로 변환\n",
    "prcp[:10]"
   ]
  },
  {
   "cell_type": "markdown",
   "id": "5d00a36b-7a43-4b80-a6a9-e7a9fc7f8470",
   "metadata": {},
   "source": [
    "#### **[+] 0.5인치 이상 비가 온 날의 수를 출력하기**\n",
    "+ 예상 출력 결과: `39`"
   ]
  },
  {
   "cell_type": "code",
   "execution_count": 51,
   "id": "440c278a-e8ee-4ee6-9218-d3168459483d",
   "metadata": {},
   "outputs": [
    {
     "ename": "TypeError",
     "evalue": "'>' not supported between instances of 'type' and 'float'",
     "output_type": "error",
     "traceback": [
      "\u001b[1;31m---------------------------------------------------------------------------\u001b[0m",
      "\u001b[1;31mTypeError\u001b[0m                                 Traceback (most recent call last)",
      "Cell \u001b[1;32mIn[51], line 1\u001b[0m\n\u001b[1;32m----> 1\u001b[0m prcp \u001b[38;5;241m>\u001b[39m \u001b[38;5;241m0.5\u001b[39m\n",
      "\u001b[1;31mTypeError\u001b[0m: '>' not supported between instances of 'type' and 'float'"
     ]
    }
   ],
   "source": [
    "prcp > 0.5"
   ]
  },
  {
   "cell_type": "markdown",
   "id": "fdbdffa6-f3ab-4e54-99c6-fa0ea98a69b9",
   "metadata": {},
   "source": [
    "#### **[+] 비가 온 날의 평균 강수량을 출력하기**\n",
    "+ 예상 출력 결과: `0.32356955380577423`\n"
   ]
  },
  {
   "cell_type": "code",
   "execution_count": null,
   "id": "23fdf2ed-3144-440b-a065-b9284a9a98e0",
   "metadata": {},
   "outputs": [],
   "source": []
  },
  {
   "cell_type": "markdown",
   "id": "03fd3b34-a35e-4427-9337-30094f3a2208",
   "metadata": {},
   "source": [
    "#### **강수량 히스토그램 시각화**"
   ]
  },
  {
   "cell_type": "code",
   "execution_count": null,
   "id": "c6a856af-e036-4265-8100-80d9d4acfbbe",
   "metadata": {},
   "outputs": [],
   "source": [
    "plt.hist(prcp, 40);"
   ]
  },
  {
   "cell_type": "markdown",
   "id": "a6edebdd-7ac0-4f3a-b058-c9586b247564",
   "metadata": {},
   "source": [
    "### **문제: 시험 데이터 처리하기**\n",
    "---\n",
    "다음의 지시문을 읽고 `loc`, `iloc` 인덱서를 이용하여 원하는 데이터를 선택하는 코드를 완성하세요."
   ]
  },
  {
   "cell_type": "markdown",
   "id": "a07f1f97-d0ba-4174-afff-b36542c597a4",
   "metadata": {},
   "source": [
    "#### **시험 데이터 생성**"
   ]
  },
  {
   "cell_type": "code",
   "execution_count": 25,
   "id": "0eae125e-bf0f-486e-bdae-58e9a703ff40",
   "metadata": {},
   "outputs": [],
   "source": [
    "exam_data = {\n",
    "    'name': ['Trump', 'Merkel', 'Putin', 'Yoon', 'Lincoln'],\n",
    "    'grade': [2, 3, 3, 1, 3],\n",
    "    'score_language': [85, 75, 80, 20, 85],\n",
    "    'score_math': [80, 95, 50, 15, 65],\n",
    "    'score_philosophy': [40, 85, 20, 10, 95]\n",
    "}"
   ]
  },
  {
   "cell_type": "markdown",
   "id": "e99c1392-598b-43ff-be59-99d8d6940f8d",
   "metadata": {},
   "source": [
    "#### **[+] 데이터프레임 생성(인덱스 적용)**\n",
    "+ 데이터 객체: `exam_data`\n",
    "+ 인덱스: `['A', 'B', 'C', 'D', 'E']`"
   ]
  },
  {
   "cell_type": "code",
   "execution_count": 53,
   "id": "08de0fc0-eebc-4e2b-8dc0-f63f2be3c1f7",
   "metadata": {},
   "outputs": [
    {
     "data": {
      "text/html": [
       "<div>\n",
       "<style scoped>\n",
       "    .dataframe tbody tr th:only-of-type {\n",
       "        vertical-align: middle;\n",
       "    }\n",
       "\n",
       "    .dataframe tbody tr th {\n",
       "        vertical-align: top;\n",
       "    }\n",
       "\n",
       "    .dataframe thead th {\n",
       "        text-align: right;\n",
       "    }\n",
       "</style>\n",
       "<table border=\"1\" class=\"dataframe\">\n",
       "  <thead>\n",
       "    <tr style=\"text-align: right;\">\n",
       "      <th></th>\n",
       "      <th>name</th>\n",
       "      <th>grade</th>\n",
       "      <th>score_language</th>\n",
       "      <th>score_math</th>\n",
       "      <th>score_philosophy</th>\n",
       "    </tr>\n",
       "  </thead>\n",
       "  <tbody>\n",
       "    <tr>\n",
       "      <th>A</th>\n",
       "      <td>Trump</td>\n",
       "      <td>2</td>\n",
       "      <td>85</td>\n",
       "      <td>80</td>\n",
       "      <td>40</td>\n",
       "    </tr>\n",
       "    <tr>\n",
       "      <th>B</th>\n",
       "      <td>Merkel</td>\n",
       "      <td>3</td>\n",
       "      <td>75</td>\n",
       "      <td>95</td>\n",
       "      <td>85</td>\n",
       "    </tr>\n",
       "    <tr>\n",
       "      <th>C</th>\n",
       "      <td>Putin</td>\n",
       "      <td>3</td>\n",
       "      <td>80</td>\n",
       "      <td>50</td>\n",
       "      <td>20</td>\n",
       "    </tr>\n",
       "    <tr>\n",
       "      <th>D</th>\n",
       "      <td>Yoon</td>\n",
       "      <td>1</td>\n",
       "      <td>20</td>\n",
       "      <td>15</td>\n",
       "      <td>10</td>\n",
       "    </tr>\n",
       "    <tr>\n",
       "      <th>E</th>\n",
       "      <td>Lincoln</td>\n",
       "      <td>3</td>\n",
       "      <td>85</td>\n",
       "      <td>65</td>\n",
       "      <td>95</td>\n",
       "    </tr>\n",
       "  </tbody>\n",
       "</table>\n",
       "</div>"
      ],
      "text/plain": [
       "      name  grade  score_language  score_math  score_philosophy\n",
       "A    Trump      2              85          80                40\n",
       "B   Merkel      3              75          95                85\n",
       "C    Putin      3              80          50                20\n",
       "D     Yoon      1              20          15                10\n",
       "E  Lincoln      3              85          65                95"
      ]
     },
     "execution_count": 53,
     "metadata": {},
     "output_type": "execute_result"
    }
   ],
   "source": [
    "df = pd.DataFrame(exam_data, index=['A', 'B', 'C', 'D', 'E'])\n",
    "df"
   ]
  },
  {
   "cell_type": "markdown",
   "id": "4f306fdc-ee83-488f-a806-aadd1263251e",
   "metadata": {},
   "source": [
    "#### **[+] loc 인덱서를 이용하여 Merkel, Putin, Yoon의 국어 점수를 출력하기**\n",
    "+ 국어 점수 변수: `score_language`\n",
    "+ 예상 출력 결과:\n",
    "```\n",
    "B   75\n",
    "C   80\n",
    "D   20"
   ]
  },
  {
   "cell_type": "code",
   "execution_count": 73,
   "id": "d72e5668-cce3-4ffa-84f1-a8f43e19adc9",
   "metadata": {},
   "outputs": [
    {
     "ename": "NameError",
     "evalue": "name 'score_language' is not defined",
     "output_type": "error",
     "traceback": [
      "\u001b[1;31m---------------------------------------------------------------------------\u001b[0m",
      "\u001b[1;31mNameError\u001b[0m                                 Traceback (most recent call last)",
      "Cell \u001b[1;32mIn[73], line 1\u001b[0m\n\u001b[1;32m----> 1\u001b[0m df\u001b[38;5;241m.\u001b[39mloc(score_language)\n",
      "\u001b[1;31mNameError\u001b[0m: name 'score_language' is not defined"
     ]
    }
   ],
   "source": [
    "df.loc(score_language)"
   ]
  },
  {
   "cell_type": "markdown",
   "id": "f8d1c1ec-9360-4d10-b212-dec1b11e7ba6",
   "metadata": {},
   "source": [
    "#### **[+] iloc 인덱서를 이용하여 Merkel, Putin, Yoon의 철학 점수를 출력하기**\n",
    "+ 수학 점수 변수: `score_philosophy`\n",
    "+ 예상 출력 결과:\n",
    "```\n",
    "B    85\n",
    "C    20\n",
    "D    10"
   ]
  },
  {
   "cell_type": "code",
   "execution_count": 74,
   "id": "7745accc-fb98-4cb9-92ce-baadc286c09a",
   "metadata": {},
   "outputs": [
    {
     "ename": "NameError",
     "evalue": "name 'score_philosophy' is not defined",
     "output_type": "error",
     "traceback": [
      "\u001b[1;31m---------------------------------------------------------------------------\u001b[0m",
      "\u001b[1;31mNameError\u001b[0m                                 Traceback (most recent call last)",
      "Cell \u001b[1;32mIn[74], line 1\u001b[0m\n\u001b[1;32m----> 1\u001b[0m df\u001b[38;5;241m.\u001b[39miloc(score_philosophy)\n",
      "\u001b[1;31mNameError\u001b[0m: name 'score_philosophy' is not defined"
     ]
    }
   ],
   "source": [
    "df.iloc(score_philosophy)"
   ]
  },
  {
   "cell_type": "markdown",
   "id": "654cf146-82c8-4516-97b4-ec08b58c3c80",
   "metadata": {},
   "source": [
    "#### **[+] 학생별 시험 점수 평균을 구하기**\n",
    "+ 추가할 변수: `score_average`\n",
    "+ 예상 출력 결과:\n",
    "```\n",
    "A    68.333333\r\n",
    "B    85.000000\r\n",
    "C    50.000000\r\n",
    "D    15.000000\r\n",
    "E    81.666667"
   ]
  },
  {
   "cell_type": "code",
   "execution_count": 83,
   "id": "f581381d-b870-43f8-b25b-9fc14f8892c3",
   "metadata": {},
   "outputs": [
    {
     "ename": "NameError",
     "evalue": "name 'mean' is not defined",
     "output_type": "error",
     "traceback": [
      "\u001b[1;31m---------------------------------------------------------------------------\u001b[0m",
      "\u001b[1;31mNameError\u001b[0m                                 Traceback (most recent call last)",
      "Cell \u001b[1;32mIn[83], line 1\u001b[0m\n\u001b[1;32m----> 1\u001b[0m mean(score_average)\n\u001b[0;32m      2\u001b[0m \u001b[38;5;28mprint\u001b[39m(df[\u001b[38;5;124m'\u001b[39m\u001b[38;5;124mscore_average\u001b[39m\u001b[38;5;124m'\u001b[39m])\n",
      "\u001b[1;31mNameError\u001b[0m: name 'mean' is not defined"
     ]
    }
   ],
   "source": [
    "mean(score_average)\n",
    "print(df['score_average'])"
   ]
  },
  {
   "cell_type": "markdown",
   "id": "e4dd7c34-ea9c-419d-9d24-febf72cb60d5",
   "metadata": {},
   "source": [
    "### **문제: 교통사고 데이터의 결측치 처리**\n",
    "---\n",
    "**설명:**\n",
    "당신은 대도시의 교통 부서에서 일하고 있으며, 도시의 주요 도로들에 대한 교통량과 사고 발생 빈도에 대한 데이터를 분석하고 있습니다. 데이터셋에는 여러 도로의 이름, 해당 도로에서의 일일 교통량, 그리고 최근 한 달 동안의 사고 발생 횟수가 포함되어 있습니다. 그러나, 일부 데이터가 누락되어 있어서 분석하기 전에 이를 정리할 필요가 있습니다.\n",
    "\n",
    "다음의 지시문에 따라 결측 데이터를 처리하는 코드를 완성하세요."
   ]
  },
  {
   "cell_type": "markdown",
   "id": "af663c71-b6f8-4c37-98e5-3d10d0f73f4c",
   "metadata": {},
   "source": [
    "#### **데이터셋 생성**"
   ]
  },
  {
   "cell_type": "code",
   "execution_count": 20,
   "id": "e6f78920-464d-494b-bcf9-55b059ecb742",
   "metadata": {},
   "outputs": [
    {
     "data": {
      "text/html": [
       "<div>\n",
       "<style scoped>\n",
       "    .dataframe tbody tr th:only-of-type {\n",
       "        vertical-align: middle;\n",
       "    }\n",
       "\n",
       "    .dataframe tbody tr th {\n",
       "        vertical-align: top;\n",
       "    }\n",
       "\n",
       "    .dataframe thead th {\n",
       "        text-align: right;\n",
       "    }\n",
       "</style>\n",
       "<table border=\"1\" class=\"dataframe\">\n",
       "  <thead>\n",
       "    <tr style=\"text-align: right;\">\n",
       "      <th></th>\n",
       "      <th>도로명</th>\n",
       "      <th>일일 교통량</th>\n",
       "      <th>사고 발생 횟수</th>\n",
       "    </tr>\n",
       "  </thead>\n",
       "  <tbody>\n",
       "    <tr>\n",
       "      <th>0</th>\n",
       "      <td>A길</td>\n",
       "      <td>10000</td>\n",
       "      <td>2.0</td>\n",
       "    </tr>\n",
       "    <tr>\n",
       "      <th>1</th>\n",
       "      <td>B대로</td>\n",
       "      <td>7500</td>\n",
       "      <td>3.0</td>\n",
       "    </tr>\n",
       "    <tr>\n",
       "      <th>2</th>\n",
       "      <td>C거리</td>\n",
       "      <td>N/A</td>\n",
       "      <td>NaN</td>\n",
       "    </tr>\n",
       "    <tr>\n",
       "      <th>3</th>\n",
       "      <td>D도로</td>\n",
       "      <td>12000</td>\n",
       "      <td>0.0</td>\n",
       "    </tr>\n",
       "    <tr>\n",
       "      <th>4</th>\n",
       "      <td>E길</td>\n",
       "      <td>NaN</td>\n",
       "      <td>NaN</td>\n",
       "    </tr>\n",
       "    <tr>\n",
       "      <th>5</th>\n",
       "      <td>F대로</td>\n",
       "      <td>7500</td>\n",
       "      <td>NaN</td>\n",
       "    </tr>\n",
       "    <tr>\n",
       "      <th>6</th>\n",
       "      <td>G길</td>\n",
       "      <td>NaN</td>\n",
       "      <td>NaN</td>\n",
       "    </tr>\n",
       "  </tbody>\n",
       "</table>\n",
       "</div>"
      ],
      "text/plain": [
       "   도로명 일일 교통량  사고 발생 횟수\n",
       "0   A길  10000       2.0\n",
       "1  B대로   7500       3.0\n",
       "2  C거리    N/A       NaN\n",
       "3  D도로  12000       0.0\n",
       "4   E길    NaN       NaN\n",
       "5  F대로   7500       NaN\n",
       "6   G길    NaN       NaN"
      ]
     },
     "execution_count": 20,
     "metadata": {},
     "output_type": "execute_result"
    }
   ],
   "source": [
    "data = {\n",
    "    '도로명': ['A길', 'B대로', 'C거리', 'D도로', 'E길', 'F대로', 'G길'],\n",
    "    '일일 교통량': [10000, 7500, 'N/A', 12000, np.nan, 7500, np.nan],\n",
    "    '사고 발생 횟수': [2, 3, np.nan, 0, np.nan, np.nan, np.nan],\n",
    "}\n",
    "df = pd.DataFrame(data)\n",
    "df"
   ]
  },
  {
   "cell_type": "markdown",
   "id": "fe6c1d14-c30a-4eec-ba69-16ac95d43736",
   "metadata": {},
   "source": [
    "#### **[+] DataFrame 내의 'N/A' 값을 np.nan으로 대체**\n",
    "+ 'N/A'는 문자열이며 결측치로 인식되지 않으므로 해당 값을 np.nan으로 대체"
   ]
  },
  {
   "cell_type": "code",
   "execution_count": 58,
   "id": "2af1a966-2aed-42cb-93a7-7adf491c2586",
   "metadata": {},
   "outputs": [
    {
     "data": {
      "text/html": [
       "<div>\n",
       "<style scoped>\n",
       "    .dataframe tbody tr th:only-of-type {\n",
       "        vertical-align: middle;\n",
       "    }\n",
       "\n",
       "    .dataframe tbody tr th {\n",
       "        vertical-align: top;\n",
       "    }\n",
       "\n",
       "    .dataframe thead th {\n",
       "        text-align: right;\n",
       "    }\n",
       "</style>\n",
       "<table border=\"1\" class=\"dataframe\">\n",
       "  <thead>\n",
       "    <tr style=\"text-align: right;\">\n",
       "      <th></th>\n",
       "      <th>도로명</th>\n",
       "      <th>일일 교통량</th>\n",
       "      <th>사고 발생 횟수</th>\n",
       "    </tr>\n",
       "  </thead>\n",
       "  <tbody>\n",
       "    <tr>\n",
       "      <th>0</th>\n",
       "      <td>A길</td>\n",
       "      <td>10000</td>\n",
       "      <td>2.0</td>\n",
       "    </tr>\n",
       "    <tr>\n",
       "      <th>1</th>\n",
       "      <td>B대로</td>\n",
       "      <td>7500</td>\n",
       "      <td>3.0</td>\n",
       "    </tr>\n",
       "    <tr>\n",
       "      <th>2</th>\n",
       "      <td>C거리</td>\n",
       "      <td>np.nan</td>\n",
       "      <td>NaN</td>\n",
       "    </tr>\n",
       "    <tr>\n",
       "      <th>3</th>\n",
       "      <td>D도로</td>\n",
       "      <td>12000</td>\n",
       "      <td>0.0</td>\n",
       "    </tr>\n",
       "    <tr>\n",
       "      <th>4</th>\n",
       "      <td>E길</td>\n",
       "      <td>NaN</td>\n",
       "      <td>NaN</td>\n",
       "    </tr>\n",
       "    <tr>\n",
       "      <th>5</th>\n",
       "      <td>F대로</td>\n",
       "      <td>7500</td>\n",
       "      <td>NaN</td>\n",
       "    </tr>\n",
       "    <tr>\n",
       "      <th>6</th>\n",
       "      <td>G길</td>\n",
       "      <td>NaN</td>\n",
       "      <td>NaN</td>\n",
       "    </tr>\n",
       "  </tbody>\n",
       "</table>\n",
       "</div>"
      ],
      "text/plain": [
       "   도로명  일일 교통량  사고 발생 횟수\n",
       "0   A길   10000       2.0\n",
       "1  B대로    7500       3.0\n",
       "2  C거리  np.nan       NaN\n",
       "3  D도로   12000       0.0\n",
       "4   E길     NaN       NaN\n",
       "5  F대로    7500       NaN\n",
       "6   G길     NaN       NaN"
      ]
     },
     "execution_count": 58,
     "metadata": {},
     "output_type": "execute_result"
    }
   ],
   "source": [
    "data = {\n",
    "    '도로명': ['A길', 'B대로', 'C거리', 'D도로', 'E길', 'F대로', 'G길'],\n",
    "    '일일 교통량': [10000, 7500, 'np.nan', 12000, np.nan, 7500, np.nan],\n",
    "    '사고 발생 횟수': [2, 3, np.nan, 0, np.nan, np.nan, np.nan],\n",
    "}\n",
    "df = pd.DataFrame(data)\n",
    "df"
   ]
  },
  {
   "cell_type": "markdown",
   "id": "51ab2a31-285b-4662-a5bd-9c35f2834d5e",
   "metadata": {},
   "source": [
    "#### "
   ]
  },
  {
   "cell_type": "markdown",
   "id": "40c17091-d13b-4525-891a-13781c0f9185",
   "metadata": {},
   "source": [
    "#### **[+] 어떤 행에서든 하나 이상의 값이 누락된 경우 그 행을 제거**"
   ]
  },
  {
   "cell_type": "code",
   "execution_count": 75,
   "id": "21ca9c7e-c812-460b-a6b3-a16ec7f306de",
   "metadata": {},
   "outputs": [
    {
     "ename": "NameError",
     "evalue": "name 'Nan' is not defined",
     "output_type": "error",
     "traceback": [
      "\u001b[1;31m---------------------------------------------------------------------------\u001b[0m",
      "\u001b[1;31mNameError\u001b[0m                                 Traceback (most recent call last)",
      "Cell \u001b[1;32mIn[75], line 1\u001b[0m\n\u001b[1;32m----> 1\u001b[0m df_cleaned_1 \u001b[38;5;241m=\u001b[39m Nan\n\u001b[0;32m      2\u001b[0m df_cleaned_1\n",
      "\u001b[1;31mNameError\u001b[0m: name 'Nan' is not defined"
     ]
    }
   ],
   "source": [
    "df_cleaned_1 = Nan\n",
    "df_cleaned_1"
   ]
  },
  {
   "cell_type": "markdown",
   "id": "8c5aa949-7632-439f-b95c-4f5bda97d56a",
   "metadata": {},
   "source": [
    "#### **[+] 정상으로 측정된 값의 개수가 임계치 4개보다 작은 열을 삭제**"
   ]
  },
  {
   "cell_type": "code",
   "execution_count": 78,
   "id": "58fb12d9-b282-4ab8-9c58-61dddd3565af",
   "metadata": {},
   "outputs": [
    {
     "ename": "SyntaxError",
     "evalue": "invalid syntax (2204351246.py, line 1)",
     "output_type": "error",
     "traceback": [
      "\u001b[1;36m  Cell \u001b[1;32mIn[78], line 1\u001b[1;36m\u001b[0m\n\u001b[1;33m    df_cleaned_2 = (<4)\u001b[0m\n\u001b[1;37m                    ^\u001b[0m\n\u001b[1;31mSyntaxError\u001b[0m\u001b[1;31m:\u001b[0m invalid syntax\n"
     ]
    }
   ],
   "source": [
    "df_cleaned_2 = (<4)\n",
    "df_cleaned_2"
   ]
  },
  {
   "cell_type": "markdown",
   "id": "f2490836-b0a7-485f-97a8-19e75801c0f7",
   "metadata": {},
   "source": [
    "### **문제: z-score 기반으로 이상치 탐지하기**\n",
    "---\n",
    "다음의 지시문에 따라 공기질 데이터(Air Quality)의 일산화탄소 변수(`CO(GT)`)의 이상치들을 z-score 기반으로 탐지하세요."
   ]
  },
  {
   "cell_type": "markdown",
   "id": "e65ed3c5-1d2f-461a-af09-7091db06afa1",
   "metadata": {},
   "source": [
    "#### **데이터셋 불러오기**"
   ]
  },
  {
   "cell_type": "code",
   "execution_count": 23,
   "id": "43019fec-f531-4eda-95d8-d5c3e81363ee",
   "metadata": {},
   "outputs": [
    {
     "name": "stderr",
     "output_type": "stream",
     "text": [
      "C:\\Users\\neh17\\AppData\\Local\\Temp\\ipykernel_15884\\2200888438.py:7: FutureWarning: The argument 'date_parser' is deprecated and will be removed in a future version. Please use 'date_format' instead, or read your data in as 'object' dtype and then call 'to_datetime'.\n",
      "  df = pd.read_csv(\n"
     ]
    },
    {
     "data": {
      "text/html": [
       "<div>\n",
       "<style scoped>\n",
       "    .dataframe tbody tr th:only-of-type {\n",
       "        vertical-align: middle;\n",
       "    }\n",
       "\n",
       "    .dataframe tbody tr th {\n",
       "        vertical-align: top;\n",
       "    }\n",
       "\n",
       "    .dataframe thead th {\n",
       "        text-align: right;\n",
       "    }\n",
       "</style>\n",
       "<table border=\"1\" class=\"dataframe\">\n",
       "  <thead>\n",
       "    <tr style=\"text-align: right;\">\n",
       "      <th></th>\n",
       "      <th>CO(GT)</th>\n",
       "      <th>PT08.S1(CO)</th>\n",
       "      <th>PT08.S2(NMHC)</th>\n",
       "      <th>NOx(GT)</th>\n",
       "      <th>PT08.S3(NOx)</th>\n",
       "      <th>NO2(GT)</th>\n",
       "      <th>PT08.S4(NO2)</th>\n",
       "      <th>PT08.S5(O3)</th>\n",
       "      <th>RH</th>\n",
       "      <th>AH</th>\n",
       "      <th>C6H6(GT)</th>\n",
       "    </tr>\n",
       "    <tr>\n",
       "      <th>Datetime</th>\n",
       "      <th></th>\n",
       "      <th></th>\n",
       "      <th></th>\n",
       "      <th></th>\n",
       "      <th></th>\n",
       "      <th></th>\n",
       "      <th></th>\n",
       "      <th></th>\n",
       "      <th></th>\n",
       "      <th></th>\n",
       "      <th></th>\n",
       "    </tr>\n",
       "  </thead>\n",
       "  <tbody>\n",
       "    <tr>\n",
       "      <th>2004-03-10 18:00:00</th>\n",
       "      <td>2.6</td>\n",
       "      <td>1360.0</td>\n",
       "      <td>1046.0</td>\n",
       "      <td>166.0</td>\n",
       "      <td>1056.0</td>\n",
       "      <td>113.0</td>\n",
       "      <td>1692.0</td>\n",
       "      <td>1268.0</td>\n",
       "      <td>48.9</td>\n",
       "      <td>0.7578</td>\n",
       "      <td>11.9</td>\n",
       "    </tr>\n",
       "    <tr>\n",
       "      <th>2004-03-10 19:00:00</th>\n",
       "      <td>2.0</td>\n",
       "      <td>1292.0</td>\n",
       "      <td>955.0</td>\n",
       "      <td>103.0</td>\n",
       "      <td>1174.0</td>\n",
       "      <td>92.0</td>\n",
       "      <td>1559.0</td>\n",
       "      <td>972.0</td>\n",
       "      <td>47.7</td>\n",
       "      <td>0.7255</td>\n",
       "      <td>9.4</td>\n",
       "    </tr>\n",
       "    <tr>\n",
       "      <th>2004-03-10 20:00:00</th>\n",
       "      <td>2.2</td>\n",
       "      <td>1402.0</td>\n",
       "      <td>939.0</td>\n",
       "      <td>131.0</td>\n",
       "      <td>1140.0</td>\n",
       "      <td>114.0</td>\n",
       "      <td>1555.0</td>\n",
       "      <td>1074.0</td>\n",
       "      <td>54.0</td>\n",
       "      <td>0.7502</td>\n",
       "      <td>9.0</td>\n",
       "    </tr>\n",
       "    <tr>\n",
       "      <th>2004-03-10 21:00:00</th>\n",
       "      <td>2.2</td>\n",
       "      <td>1376.0</td>\n",
       "      <td>948.0</td>\n",
       "      <td>172.0</td>\n",
       "      <td>1092.0</td>\n",
       "      <td>122.0</td>\n",
       "      <td>1584.0</td>\n",
       "      <td>1203.0</td>\n",
       "      <td>60.0</td>\n",
       "      <td>0.7867</td>\n",
       "      <td>9.2</td>\n",
       "    </tr>\n",
       "    <tr>\n",
       "      <th>2004-03-10 22:00:00</th>\n",
       "      <td>1.6</td>\n",
       "      <td>1272.0</td>\n",
       "      <td>836.0</td>\n",
       "      <td>131.0</td>\n",
       "      <td>1205.0</td>\n",
       "      <td>116.0</td>\n",
       "      <td>1490.0</td>\n",
       "      <td>1110.0</td>\n",
       "      <td>59.6</td>\n",
       "      <td>0.7888</td>\n",
       "      <td>6.5</td>\n",
       "    </tr>\n",
       "  </tbody>\n",
       "</table>\n",
       "</div>"
      ],
      "text/plain": [
       "                     CO(GT)  PT08.S1(CO)  PT08.S2(NMHC)  NOx(GT)  \\\n",
       "Datetime                                                           \n",
       "2004-03-10 18:00:00     2.6       1360.0         1046.0    166.0   \n",
       "2004-03-10 19:00:00     2.0       1292.0          955.0    103.0   \n",
       "2004-03-10 20:00:00     2.2       1402.0          939.0    131.0   \n",
       "2004-03-10 21:00:00     2.2       1376.0          948.0    172.0   \n",
       "2004-03-10 22:00:00     1.6       1272.0          836.0    131.0   \n",
       "\n",
       "                     PT08.S3(NOx)  NO2(GT)  PT08.S4(NO2)  PT08.S5(O3)    RH  \\\n",
       "Datetime                                                                      \n",
       "2004-03-10 18:00:00        1056.0    113.0        1692.0       1268.0  48.9   \n",
       "2004-03-10 19:00:00        1174.0     92.0        1559.0        972.0  47.7   \n",
       "2004-03-10 20:00:00        1140.0    114.0        1555.0       1074.0  54.0   \n",
       "2004-03-10 21:00:00        1092.0    122.0        1584.0       1203.0  60.0   \n",
       "2004-03-10 22:00:00        1205.0    116.0        1490.0       1110.0  59.6   \n",
       "\n",
       "                         AH  C6H6(GT)  \n",
       "Datetime                               \n",
       "2004-03-10 18:00:00  0.7578      11.9  \n",
       "2004-03-10 19:00:00  0.7255       9.4  \n",
       "2004-03-10 20:00:00  0.7502       9.0  \n",
       "2004-03-10 21:00:00  0.7867       9.2  \n",
       "2004-03-10 22:00:00  0.7888       6.5  "
      ]
     },
     "execution_count": 23,
     "metadata": {},
     "output_type": "execute_result"
    }
   ],
   "source": [
    "def parser(x):\n",
    "    return datetime.strptime(x, '%Y-%m-%d %H:%M:%S')\n",
    "\n",
    "path = './data/'\n",
    "file = 'AirQualityUCI_refined.csv'\n",
    "\n",
    "df = pd.read_csv(\n",
    "    path + file,\n",
    "    index_col=[0],\n",
    "    parse_dates=[0],\n",
    "    date_parser=parser\n",
    ")\n",
    "\n",
    "df.head()"
   ]
  },
  {
   "cell_type": "markdown",
   "id": "396c9fab-e2b9-49c8-a7c1-bf2c4d6b6460",
   "metadata": {},
   "source": [
    "#### **[+] 일산화탄소 변수 복사본 생성하기**\n",
    "+ 일산화탄소 변수: `CO(GT)`\n",
    "+ 저장할 데이터 타입: `pd.Series`"
   ]
  },
  {
   "cell_type": "code",
   "execution_count": 35,
   "id": "91d09869-8396-4613-a258-914b5800063e",
   "metadata": {},
   "outputs": [],
   "source": [
    "co = pd.Series(['C0(GT)'])"
   ]
  },
  {
   "cell_type": "markdown",
   "id": "560f2eee-4aec-4773-99ef-6a2387958dee",
   "metadata": {},
   "source": [
    "#### **[+] 일산화탄수 변수의 결측치 처리하기**\n",
    "+ 결측치 처리 방법: 선형보간"
   ]
  },
  {
   "cell_type": "code",
   "execution_count": 84,
   "id": "93112408-89a8-4866-b359-a13e33322236",
   "metadata": {},
   "outputs": [
    {
     "ename": "NameError",
     "evalue": "name 'NaN' is not defined",
     "output_type": "error",
     "traceback": [
      "\u001b[1;31m---------------------------------------------------------------------------\u001b[0m",
      "\u001b[1;31mNameError\u001b[0m                                 Traceback (most recent call last)",
      "Cell \u001b[1;32mIn[84], line 1\u001b[0m\n\u001b[1;32m----> 1\u001b[0m np\u001b[38;5;241m.\u001b[39mnan: NaN(\u001b[38;5;124m'\u001b[39m\u001b[38;5;124mPT08.S1(CO)\u001b[39m\u001b[38;5;124m'\u001b[39m)\n",
      "\u001b[1;31mNameError\u001b[0m: name 'NaN' is not defined"
     ]
    }
   ],
   "source": [
    "np.nan: NaN('PT08.S1(CO)') "
   ]
  },
  {
   "cell_type": "markdown",
   "id": "a8274e9e-180d-4526-8c3e-ec3b26e974d1",
   "metadata": {},
   "source": [
    "#### **[+] 일산화탄수 변수에 대해 z-score 계산하기**\n",
    "z-score 수식:\n",
    "$Z = \\frac{x_i-\\mu}{\\sigma}$\n",
    "+ $x_i$ : $i$번째 관측값\n",
    "+ $\\mu$ : 평균\n",
    "+ $\\sigma$ : 표준편차\n",
    "\n",
    "예측 결과:\n",
    "```\n",
    "Datetime\r\n",
    "2004-03-10 18:00:00    0.329739\r\n",
    "2004-03-10 19:00:00   -0.087781\r\n",
    "2004-03-10 20:00:00    0.051392\r\n",
    "2004-03-10 21:00:00    0.051392\r\n",
    "2004-03-10 22:00:00   -0.366127"
   ]
  },
  {
   "cell_type": "code",
   "execution_count": null,
   "id": "1e3b4268-8b36-4346-bddc-34ff3f7c8c55",
   "metadata": {},
   "outputs": [],
   "source": [
    "co_mean = 1360+1292+1402+137\n",
    "co_std = \n",
    "co_zscore = \n",
    "co_zscore"
   ]
  },
  {
   "cell_type": "markdown",
   "id": "df3d59ed-fd60-43a8-b8a3-a805cb9ac2f8",
   "metadata": {},
   "source": [
    "#### **[+] z-score 임계치를 이용하여 이상치 탐지하기**\n",
    "+ 적용할 z-score 임계치: $\\pm3$\n",
    "+ 이상치 범위: 관측값 $x_i$의 z-score가 $+3$보다 크거나 $-3$보다 작은 경우\n",
    "+ 예상 출력 결과:\n",
    "```\n",
    "Datetime\r\n",
    "2004-03-11 19:00:00    3.321962\r\n",
    "2004-03-12 20:00:00    3.113203\r\n",
    "2004-03-15 09:00:00    4.157002\r\n",
    "2004-03-15 19:00:00    4.087415\r\n",
    "2004-03-15 20:00:00    3.043616\r\n",
    "                         ... "
   ]
  },
  {
   "cell_type": "code",
   "execution_count": null,
   "id": "fbff5421-4476-49aa-829a-b251b3b87ce0",
   "metadata": {},
   "outputs": [],
   "source": [
    "outliers = (+-3)\n",
    "outliers"
   ]
  },
  {
   "cell_type": "markdown",
   "id": "4bbac90f-cff4-4181-8bb1-8a5245b90338",
   "metadata": {},
   "source": [
    "#### **이상치 여부 마스킹**"
   ]
  },
  {
   "cell_type": "code",
   "execution_count": 76,
   "id": "056dd945-671e-4fe1-8979-106e3e15a5ae",
   "metadata": {},
   "outputs": [
    {
     "ename": "NameError",
     "evalue": "name 'co_zscore' is not defined",
     "output_type": "error",
     "traceback": [
      "\u001b[1;31m---------------------------------------------------------------------------\u001b[0m",
      "\u001b[1;31mNameError\u001b[0m                                 Traceback (most recent call last)",
      "Cell \u001b[1;32mIn[76], line 1\u001b[0m\n\u001b[1;32m----> 1\u001b[0m mask \u001b[38;5;241m=\u001b[39m co_zscore\u001b[38;5;241m.\u001b[39mindex\u001b[38;5;241m.\u001b[39misin(outliers\u001b[38;5;241m.\u001b[39mindex)\n\u001b[0;32m      2\u001b[0m mask[:\u001b[38;5;241m50\u001b[39m]\n",
      "\u001b[1;31mNameError\u001b[0m: name 'co_zscore' is not defined"
     ]
    }
   ],
   "source": [
    "mask = co_zscore.index.isin(outliers.index)\n",
    "mask[:50]"
   ]
  },
  {
   "cell_type": "markdown",
   "id": "53006b86-6385-4da0-a6f1-f157960e5960",
   "metadata": {},
   "source": [
    "#### **정상 데이터 / 이상치 시각화**"
   ]
  },
  {
   "cell_type": "code",
   "execution_count": 33,
   "id": "af5af563-b45b-4b17-92c2-1d7a33eaac66",
   "metadata": {
    "scrolled": true
   },
   "outputs": [
    {
     "ename": "KeyError",
     "evalue": "'CO(GT)'",
     "output_type": "error",
     "traceback": [
      "\u001b[1;31m---------------------------------------------------------------------------\u001b[0m",
      "\u001b[1;31mKeyError\u001b[0m                                  Traceback (most recent call last)",
      "Cell \u001b[1;32mIn[33], line 1\u001b[0m\n\u001b[1;32m----> 1\u001b[0m plt\u001b[38;5;241m.\u001b[39mplot(df[\u001b[38;5;124m'\u001b[39m\u001b[38;5;124mCO(GT)\u001b[39m\u001b[38;5;124m'\u001b[39m][\u001b[38;5;241m~\u001b[39mmask], label\u001b[38;5;241m=\u001b[39m\u001b[38;5;124m'\u001b[39m\u001b[38;5;124mnormal\u001b[39m\u001b[38;5;124m'\u001b[39m, color\u001b[38;5;241m=\u001b[39m\u001b[38;5;124m'\u001b[39m\u001b[38;5;124mblue\u001b[39m\u001b[38;5;124m'\u001b[39m,\n\u001b[0;32m      2\u001b[0m     marker\u001b[38;5;241m=\u001b[39m\u001b[38;5;124m'\u001b[39m\u001b[38;5;124mo\u001b[39m\u001b[38;5;124m'\u001b[39m, markersize\u001b[38;5;241m=\u001b[39m\u001b[38;5;241m3\u001b[39m, linestyle\u001b[38;5;241m=\u001b[39m\u001b[38;5;124m'\u001b[39m\u001b[38;5;124mNone\u001b[39m\u001b[38;5;124m'\u001b[39m)\n\u001b[0;32m      3\u001b[0m plt\u001b[38;5;241m.\u001b[39mplot(df[\u001b[38;5;124m'\u001b[39m\u001b[38;5;124mCO(GT)\u001b[39m\u001b[38;5;124m'\u001b[39m][outliers\u001b[38;5;241m.\u001b[39mindex], label\u001b[38;5;241m=\u001b[39m\u001b[38;5;124m'\u001b[39m\u001b[38;5;124moutliers\u001b[39m\u001b[38;5;124m'\u001b[39m, color\u001b[38;5;241m=\u001b[39m\u001b[38;5;124m'\u001b[39m\u001b[38;5;124mred\u001b[39m\u001b[38;5;124m'\u001b[39m,\n\u001b[0;32m      4\u001b[0m     marker\u001b[38;5;241m=\u001b[39m\u001b[38;5;124m'\u001b[39m\u001b[38;5;124mx\u001b[39m\u001b[38;5;124m'\u001b[39m, markersize\u001b[38;5;241m=\u001b[39m\u001b[38;5;241m3\u001b[39m, linestyle\u001b[38;5;241m=\u001b[39m\u001b[38;5;124m'\u001b[39m\u001b[38;5;124mNone\u001b[39m\u001b[38;5;124m'\u001b[39m)\n\u001b[0;32m      5\u001b[0m plt\u001b[38;5;241m.\u001b[39mlegend(loc\u001b[38;5;241m=\u001b[39m\u001b[38;5;124m'\u001b[39m\u001b[38;5;124mbest\u001b[39m\u001b[38;5;124m'\u001b[39m)\n",
      "\u001b[1;31mKeyError\u001b[0m: 'CO(GT)'"
     ]
    }
   ],
   "source": [
    "plt.plot(df['CO(GT)'][~mask], label='normal', color='blue',\n",
    "    marker='o', markersize=3, linestyle='None')\n",
    "plt.plot(df['CO(GT)'][outliers.index], label='outliers', color='red',\n",
    "    marker='x', markersize=3, linestyle='None')\n",
    "plt.legend(loc='best')"
   ]
  },
  {
   "cell_type": "markdown",
   "id": "8c54a659-949d-4da6-a108-601e54c41d11",
   "metadata": {},
   "source": [
    "### **문제: 로그 변환**\n",
    "---\n",
    "다음의 지시문을 읽고 공기질 데이터(Air Quality)의 질소산화물 변수(```'NOx(GT)'```)를 정규 분포에 가깝도록 로그 스케일로 변환하는 코드를 완성하세요."
   ]
  },
  {
   "cell_type": "markdown",
   "id": "3c9070e8-3a43-444f-b710-d264edb5c4a7",
   "metadata": {},
   "source": [
    "#### **데이터셋 불러오기**"
   ]
  },
  {
   "cell_type": "code",
   "execution_count": 3,
   "id": "bd0ffae9-316b-429d-9a0c-e87025d239b5",
   "metadata": {},
   "outputs": [
    {
     "name": "stderr",
     "output_type": "stream",
     "text": [
      "C:\\Users\\neh17\\AppData\\Local\\Temp\\ipykernel_15884\\2200888438.py:7: FutureWarning: The argument 'date_parser' is deprecated and will be removed in a future version. Please use 'date_format' instead, or read your data in as 'object' dtype and then call 'to_datetime'.\n",
      "  df = pd.read_csv(\n"
     ]
    },
    {
     "data": {
      "text/html": [
       "<div>\n",
       "<style scoped>\n",
       "    .dataframe tbody tr th:only-of-type {\n",
       "        vertical-align: middle;\n",
       "    }\n",
       "\n",
       "    .dataframe tbody tr th {\n",
       "        vertical-align: top;\n",
       "    }\n",
       "\n",
       "    .dataframe thead th {\n",
       "        text-align: right;\n",
       "    }\n",
       "</style>\n",
       "<table border=\"1\" class=\"dataframe\">\n",
       "  <thead>\n",
       "    <tr style=\"text-align: right;\">\n",
       "      <th></th>\n",
       "      <th>CO(GT)</th>\n",
       "      <th>PT08.S1(CO)</th>\n",
       "      <th>PT08.S2(NMHC)</th>\n",
       "      <th>NOx(GT)</th>\n",
       "      <th>PT08.S3(NOx)</th>\n",
       "      <th>NO2(GT)</th>\n",
       "      <th>PT08.S4(NO2)</th>\n",
       "      <th>PT08.S5(O3)</th>\n",
       "      <th>RH</th>\n",
       "      <th>AH</th>\n",
       "      <th>C6H6(GT)</th>\n",
       "    </tr>\n",
       "    <tr>\n",
       "      <th>Datetime</th>\n",
       "      <th></th>\n",
       "      <th></th>\n",
       "      <th></th>\n",
       "      <th></th>\n",
       "      <th></th>\n",
       "      <th></th>\n",
       "      <th></th>\n",
       "      <th></th>\n",
       "      <th></th>\n",
       "      <th></th>\n",
       "      <th></th>\n",
       "    </tr>\n",
       "  </thead>\n",
       "  <tbody>\n",
       "    <tr>\n",
       "      <th>2004-03-10 18:00:00</th>\n",
       "      <td>2.6</td>\n",
       "      <td>1360.0</td>\n",
       "      <td>1046.0</td>\n",
       "      <td>166.0</td>\n",
       "      <td>1056.0</td>\n",
       "      <td>113.0</td>\n",
       "      <td>1692.0</td>\n",
       "      <td>1268.0</td>\n",
       "      <td>48.9</td>\n",
       "      <td>0.7578</td>\n",
       "      <td>11.9</td>\n",
       "    </tr>\n",
       "    <tr>\n",
       "      <th>2004-03-10 19:00:00</th>\n",
       "      <td>2.0</td>\n",
       "      <td>1292.0</td>\n",
       "      <td>955.0</td>\n",
       "      <td>103.0</td>\n",
       "      <td>1174.0</td>\n",
       "      <td>92.0</td>\n",
       "      <td>1559.0</td>\n",
       "      <td>972.0</td>\n",
       "      <td>47.7</td>\n",
       "      <td>0.7255</td>\n",
       "      <td>9.4</td>\n",
       "    </tr>\n",
       "    <tr>\n",
       "      <th>2004-03-10 20:00:00</th>\n",
       "      <td>2.2</td>\n",
       "      <td>1402.0</td>\n",
       "      <td>939.0</td>\n",
       "      <td>131.0</td>\n",
       "      <td>1140.0</td>\n",
       "      <td>114.0</td>\n",
       "      <td>1555.0</td>\n",
       "      <td>1074.0</td>\n",
       "      <td>54.0</td>\n",
       "      <td>0.7502</td>\n",
       "      <td>9.0</td>\n",
       "    </tr>\n",
       "    <tr>\n",
       "      <th>2004-03-10 21:00:00</th>\n",
       "      <td>2.2</td>\n",
       "      <td>1376.0</td>\n",
       "      <td>948.0</td>\n",
       "      <td>172.0</td>\n",
       "      <td>1092.0</td>\n",
       "      <td>122.0</td>\n",
       "      <td>1584.0</td>\n",
       "      <td>1203.0</td>\n",
       "      <td>60.0</td>\n",
       "      <td>0.7867</td>\n",
       "      <td>9.2</td>\n",
       "    </tr>\n",
       "    <tr>\n",
       "      <th>2004-03-10 22:00:00</th>\n",
       "      <td>1.6</td>\n",
       "      <td>1272.0</td>\n",
       "      <td>836.0</td>\n",
       "      <td>131.0</td>\n",
       "      <td>1205.0</td>\n",
       "      <td>116.0</td>\n",
       "      <td>1490.0</td>\n",
       "      <td>1110.0</td>\n",
       "      <td>59.6</td>\n",
       "      <td>0.7888</td>\n",
       "      <td>6.5</td>\n",
       "    </tr>\n",
       "  </tbody>\n",
       "</table>\n",
       "</div>"
      ],
      "text/plain": [
       "                     CO(GT)  PT08.S1(CO)  PT08.S2(NMHC)  NOx(GT)  \\\n",
       "Datetime                                                           \n",
       "2004-03-10 18:00:00     2.6       1360.0         1046.0    166.0   \n",
       "2004-03-10 19:00:00     2.0       1292.0          955.0    103.0   \n",
       "2004-03-10 20:00:00     2.2       1402.0          939.0    131.0   \n",
       "2004-03-10 21:00:00     2.2       1376.0          948.0    172.0   \n",
       "2004-03-10 22:00:00     1.6       1272.0          836.0    131.0   \n",
       "\n",
       "                     PT08.S3(NOx)  NO2(GT)  PT08.S4(NO2)  PT08.S5(O3)    RH  \\\n",
       "Datetime                                                                      \n",
       "2004-03-10 18:00:00        1056.0    113.0        1692.0       1268.0  48.9   \n",
       "2004-03-10 19:00:00        1174.0     92.0        1559.0        972.0  47.7   \n",
       "2004-03-10 20:00:00        1140.0    114.0        1555.0       1074.0  54.0   \n",
       "2004-03-10 21:00:00        1092.0    122.0        1584.0       1203.0  60.0   \n",
       "2004-03-10 22:00:00        1205.0    116.0        1490.0       1110.0  59.6   \n",
       "\n",
       "                         AH  C6H6(GT)  \n",
       "Datetime                               \n",
       "2004-03-10 18:00:00  0.7578      11.9  \n",
       "2004-03-10 19:00:00  0.7255       9.4  \n",
       "2004-03-10 20:00:00  0.7502       9.0  \n",
       "2004-03-10 21:00:00  0.7867       9.2  \n",
       "2004-03-10 22:00:00  0.7888       6.5  "
      ]
     },
     "execution_count": 3,
     "metadata": {},
     "output_type": "execute_result"
    }
   ],
   "source": [
    "def parser(x):\n",
    "    return datetime.strptime(x, '%Y-%m-%d %H:%M:%S')\n",
    "\n",
    "path = './data/'\n",
    "file = 'AirQualityUCI_refined.csv'\n",
    "\n",
    "df = pd.read_csv(\n",
    "    path + file,\n",
    "    index_col=[0],\n",
    "    parse_dates=[0],\n",
    "    date_parser=parser\n",
    ")\n",
    "\n",
    "df.head()"
   ]
  },
  {
   "cell_type": "markdown",
   "id": "3be02961-8499-4006-8b2c-a1261c2596d8",
   "metadata": {},
   "source": [
    "#### **[+] 질소산화물 변수 복사본 생성**\n",
    "+ 변수 명: `NOx(GT)`"
   ]
  },
  {
   "cell_type": "code",
   "execution_count": 59,
   "id": "0271de09-80fa-4512-aaac-c6d703117faf",
   "metadata": {},
   "outputs": [
    {
     "ename": "NameError",
     "evalue": "name 'NOx' is not defined",
     "output_type": "error",
     "traceback": [
      "\u001b[1;31m---------------------------------------------------------------------------\u001b[0m",
      "\u001b[1;31mNameError\u001b[0m                                 Traceback (most recent call last)",
      "Cell \u001b[1;32mIn[59], line 1\u001b[0m\n\u001b[1;32m----> 1\u001b[0m nox \u001b[38;5;241m=\u001b[39m pd\u001b[38;5;241m.\u001b[39mDataFrame\u001b[38;5;241m.\u001b[39mcopy(NOx(GT))\n",
      "\u001b[1;31mNameError\u001b[0m: name 'NOx' is not defined"
     ]
    }
   ],
   "source": [
    "nox = pd.DataFrame.copy(NOx(GT))"
   ]
  },
  {
   "cell_type": "markdown",
   "id": "3d3cf97f-11b1-47da-9896-0d14695d7cfe",
   "metadata": {},
   "source": [
    "#### **질소 산화물 변수 분포 시각화**"
   ]
  },
  {
   "cell_type": "code",
   "execution_count": 63,
   "id": "cf4903a6-146d-4d78-bb73-a6b28bb87393",
   "metadata": {},
   "outputs": [
    {
     "ename": "NameError",
     "evalue": "name 'nox' is not defined",
     "output_type": "error",
     "traceback": [
      "\u001b[1;31m---------------------------------------------------------------------------\u001b[0m",
      "\u001b[1;31mNameError\u001b[0m                                 Traceback (most recent call last)",
      "Cell \u001b[1;32mIn[63], line 1\u001b[0m\n\u001b[1;32m----> 1\u001b[0m sns\u001b[38;5;241m.\u001b[39mdisplot(nox, kde\u001b[38;5;241m=\u001b[39m\u001b[38;5;28;01mTrue\u001b[39;00m)\n",
      "\u001b[1;31mNameError\u001b[0m: name 'nox' is not defined"
     ]
    }
   ],
   "source": [
    "sns.displot(nox, kde=True)"
   ]
  },
  {
   "cell_type": "markdown",
   "id": "b392b310-481b-4906-a7de-80e1a1b6fbaa",
   "metadata": {},
   "source": [
    "#### **[+] 상용 로그 스케일로 변환**"
   ]
  },
  {
   "cell_type": "code",
   "execution_count": 81,
   "id": "8a2b3bcf-4f70-4c37-9950-c2b3a0444565",
   "metadata": {},
   "outputs": [
    {
     "ename": "TypeError",
     "evalue": "ufunc 'log' not supported for the input types, and the inputs could not be safely coerced to any supported types according to the casting rule ''safe''",
     "output_type": "error",
     "traceback": [
      "\u001b[1;31m---------------------------------------------------------------------------\u001b[0m",
      "\u001b[1;31mTypeError\u001b[0m                                 Traceback (most recent call last)",
      "Cell \u001b[1;32mIn[81], line 1\u001b[0m\n\u001b[1;32m----> 1\u001b[0m nox_scaled \u001b[38;5;241m=\u001b[39m np\u001b[38;5;241m.\u001b[39mlog(\u001b[38;5;124m'\u001b[39m\u001b[38;5;124mNOx(GT)\u001b[39m\u001b[38;5;124m'\u001b[39m)\n\u001b[0;32m      2\u001b[0m nox_scaled\n",
      "\u001b[1;31mTypeError\u001b[0m: ufunc 'log' not supported for the input types, and the inputs could not be safely coerced to any supported types according to the casting rule ''safe''"
     ]
    }
   ],
   "source": [
    "nox_scaled = np.log('NOx(GT)')\n",
    "nox_scaled"
   ]
  },
  {
   "cell_type": "markdown",
   "id": "cd8da26d-e667-4630-87a8-4068dfaf5cfe",
   "metadata": {},
   "source": [
    "#### **변환된 변수 분포 시각화**"
   ]
  },
  {
   "cell_type": "code",
   "execution_count": 80,
   "id": "5a394d6c-c536-474d-8c46-b98ed5177ec3",
   "metadata": {},
   "outputs": [
    {
     "ename": "NameError",
     "evalue": "name 'nox_scaled' is not defined",
     "output_type": "error",
     "traceback": [
      "\u001b[1;31m---------------------------------------------------------------------------\u001b[0m",
      "\u001b[1;31mNameError\u001b[0m                                 Traceback (most recent call last)",
      "Cell \u001b[1;32mIn[80], line 1\u001b[0m\n\u001b[1;32m----> 1\u001b[0m sns\u001b[38;5;241m.\u001b[39mdisplot(nox_scaled, kde\u001b[38;5;241m=\u001b[39m\u001b[38;5;28;01mTrue\u001b[39;00m)\n\u001b[0;32m      2\u001b[0m plt\u001b[38;5;241m.\u001b[39mxlabel(\u001b[38;5;124m'\u001b[39m\u001b[38;5;124mlog(NOx)\u001b[39m\u001b[38;5;124m'\u001b[39m)\n\u001b[0;32m      3\u001b[0m plt\u001b[38;5;241m.\u001b[39mshow()\n",
      "\u001b[1;31mNameError\u001b[0m: name 'nox_scaled' is not defined"
     ]
    }
   ],
   "source": [
    "sns.displot(nox_scaled, kde=True)\n",
    "plt.xlabel('log(NOx)')\n",
    "plt.show()"
   ]
  },
  {
   "cell_type": "code",
   "execution_count": null,
   "id": "a30013a7-9b97-476b-ae91-0aab0dd3fae3",
   "metadata": {},
   "outputs": [],
   "source": []
  }
 ],
 "metadata": {
  "kernelspec": {
   "display_name": "Python 3 (ipykernel)",
   "language": "python",
   "name": "python3"
  },
  "language_info": {
   "codemirror_mode": {
    "name": "ipython",
    "version": 3
   },
   "file_extension": ".py",
   "mimetype": "text/x-python",
   "name": "python",
   "nbconvert_exporter": "python",
   "pygments_lexer": "ipython3",
   "version": "3.12.4"
  }
 },
 "nbformat": 4,
 "nbformat_minor": 5
}
