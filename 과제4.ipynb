{
 "cells": [
  {
   "cell_type": "code",
   "execution_count": 1,
   "id": "10361fb8-861c-4902-8d4e-2772726cebd4",
   "metadata": {},
   "outputs": [],
   "source": [
    "family_month = ['쌍', '쇠', '복', '돌', '팽', '육', '쌍', '개', '칠', '갑', '삼', '방']"
   ]
  },
  {
   "cell_type": "code",
   "execution_count": 2,
   "id": "1b53ae2d-a19b-4eee-a6e6-3a12bf788f60",
   "metadata": {},
   "outputs": [
    {
     "data": {
      "text/plain": [
       "['쌍', '쇠', '복', '돌', '팽', '육', '쌍', '개', '칠', '갑', '삼', '방']"
      ]
     },
     "execution_count": 2,
     "metadata": {},
     "output_type": "execute_result"
    }
   ],
   "source": [
    "family_month"
   ]
  },
  {
   "cell_type": "code",
   "execution_count": 3,
   "id": "6cb4bb1f-58b1-4b5a-8f3b-e700ec6d4927",
   "metadata": {},
   "outputs": [],
   "source": [
    "family_day = ['봉', '구', '욕', '포', '똥', '삼', '식', '석', '놈', '님', '년', '돌', '단', '득', '방', '질', '장', '걸', '래', '룡', '동', '순', '자', '박', '창', '언', '것', '포', '만', '단', '국']"
   ]
  },
  {
   "cell_type": "code",
   "execution_count": 4,
   "id": "7cd528c7-8fb8-436c-92b7-f94cbdadcc5a",
   "metadata": {},
   "outputs": [
    {
     "data": {
      "text/plain": [
       "['봉',\n",
       " '구',\n",
       " '욕',\n",
       " '포',\n",
       " '똥',\n",
       " '삼',\n",
       " '식',\n",
       " '석',\n",
       " '놈',\n",
       " '님',\n",
       " '년',\n",
       " '돌',\n",
       " '단',\n",
       " '득',\n",
       " '방',\n",
       " '질',\n",
       " '장',\n",
       " '걸',\n",
       " '래',\n",
       " '룡',\n",
       " '동',\n",
       " '순',\n",
       " '자',\n",
       " '박',\n",
       " '창',\n",
       " '언',\n",
       " '것',\n",
       " '포',\n",
       " '만',\n",
       " '단',\n",
       " '국']"
      ]
     },
     "execution_count": 4,
     "metadata": {},
     "output_type": "execute_result"
    }
   ],
   "source": [
    "family_day"
   ]
  },
  {
   "cell_type": "code",
   "execution_count": 20,
   "id": "32a9a950-f9eb-44b6-ae25-1af6a51dd7a8",
   "metadata": {},
   "outputs": [],
   "source": [
    "def get_my_chosun_name(family_name, family_month, family_day) :\n",
    "    first_name = first_name\n",
    "    family_month = family_month[family_month - 1]\n",
    "    family_day = family_day[family_day - 1]\n",
    "    chosun_name = first_name + family_month + family_day\n",
    "    print('당신의 조선이름은 (get_my_chosun_name(family_name, family_month, family_day)) 입니다.')"
   ]
  },
  {
   "cell_type": "code",
   "execution_count": 22,
   "id": "20a79718-ae2b-4b7b-b864-4e2c2b6914f9",
   "metadata": {},
   "outputs": [
    {
     "ename": "UnboundLocalError",
     "evalue": "cannot access local variable 'first_name' where it is not associated with a value",
     "output_type": "error",
     "traceback": [
      "\u001b[1;31m---------------------------------------------------------------------------\u001b[0m",
      "\u001b[1;31mUnboundLocalError\u001b[0m                         Traceback (most recent call last)",
      "Cell \u001b[1;32mIn[22], line 1\u001b[0m\n\u001b[1;32m----> 1\u001b[0m get_my_chosun_name(\u001b[38;5;124m'\u001b[39m\u001b[38;5;124m이\u001b[39m\u001b[38;5;124m'\u001b[39m, \u001b[38;5;241m6\u001b[39m, \u001b[38;5;241m3\u001b[39m)\n",
      "Cell \u001b[1;32mIn[20], line 2\u001b[0m, in \u001b[0;36mget_my_chosun_name\u001b[1;34m(family_name, family_month, family_day)\u001b[0m\n\u001b[0;32m      1\u001b[0m \u001b[38;5;28;01mdef\u001b[39;00m \u001b[38;5;21mget_my_chosun_name\u001b[39m(family_name, family_month, family_day) :\n\u001b[1;32m----> 2\u001b[0m     first_name \u001b[38;5;241m=\u001b[39m first_name\n\u001b[0;32m      3\u001b[0m     family_month \u001b[38;5;241m=\u001b[39m family_month[family_month \u001b[38;5;241m-\u001b[39m \u001b[38;5;241m1\u001b[39m]\n\u001b[0;32m      4\u001b[0m     family_day \u001b[38;5;241m=\u001b[39m family_day[family_day \u001b[38;5;241m-\u001b[39m \u001b[38;5;241m1\u001b[39m]\n",
      "\u001b[1;31mUnboundLocalError\u001b[0m: cannot access local variable 'first_name' where it is not associated with a value"
     ]
    }
   ],
   "source": [
    "get_my_chosun_name('이', 6, 3)"
   ]
  },
  {
   "cell_type": "code",
   "execution_count": null,
   "id": "68e44701-122c-410f-a31f-54f861ef282c",
   "metadata": {},
   "outputs": [],
   "source": []
  },
  {
   "cell_type": "code",
   "execution_count": null,
   "id": "7975d08e-f590-4d9d-9933-229aec718654",
   "metadata": {},
   "outputs": [],
   "source": []
  }
 ],
 "metadata": {
  "kernelspec": {
   "display_name": "Python 3 (ipykernel)",
   "language": "python",
   "name": "python3"
  },
  "language_info": {
   "codemirror_mode": {
    "name": "ipython",
    "version": 3
   },
   "file_extension": ".py",
   "mimetype": "text/x-python",
   "name": "python",
   "nbconvert_exporter": "python",
   "pygments_lexer": "ipython3",
   "version": "3.12.4"
  }
 },
 "nbformat": 4,
 "nbformat_minor": 5
}
