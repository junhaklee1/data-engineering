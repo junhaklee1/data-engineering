{
 "cells": [
  {
   "cell_type": "code",
   "execution_count": 1,
   "id": "584cb4c4-fd64-46f7-9c75-a6155362d4b1",
   "metadata": {},
   "outputs": [],
   "source": [
    "hairstyles = [\"bouffant\", \"pixie\", \"dreadlocks\", \"crew\", \"bowl\", \"bob\", \"mohawk\", \"flattop\"]"
   ]
  },
  {
   "cell_type": "code",
   "execution_count": 2,
   "id": "9c2da262-7d90-4d97-9b2a-551b8b5fa4f7",
   "metadata": {},
   "outputs": [],
   "source": [
    "prices = [30, 25, 40, 20, 20, 35, 50, 35]"
   ]
  },
  {
   "cell_type": "code",
   "execution_count": 3,
   "id": "ab2a929a-98ae-4ae1-a001-4f2bc0b86bab",
   "metadata": {},
   "outputs": [],
   "source": [
    "last_week = [2, 3, 5, 8, 4, 4, 6, 2]"
   ]
  },
  {
   "cell_type": "code",
   "execution_count": 4,
   "id": "84e6268c-eb42-40eb-ae41-d53996fee60f",
   "metadata": {},
   "outputs": [],
   "source": [
    "total_price = sum(prices)"
   ]
  },
  {
   "cell_type": "code",
   "execution_count": 5,
   "id": "1b4dc03b-7abe-4232-94fd-97af675cbca3",
   "metadata": {},
   "outputs": [
    {
     "data": {
      "text/plain": [
       "255"
      ]
     },
     "execution_count": 5,
     "metadata": {},
     "output_type": "execute_result"
    }
   ],
   "source": [
    "total_price"
   ]
  },
  {
   "cell_type": "code",
   "execution_count": 7,
   "id": "a756ce86-6453-44e3-8799-aa2d0b66f460",
   "metadata": {},
   "outputs": [],
   "source": [
    "averge_price = (total_price/len(prices)) "
   ]
  },
  {
   "cell_type": "code",
   "execution_count": 8,
   "id": "f0c8ebec-7e79-47c9-90ed-f012a38e4d26",
   "metadata": {},
   "outputs": [
    {
     "data": {
      "text/plain": [
       "31.875"
      ]
     },
     "execution_count": 8,
     "metadata": {},
     "output_type": "execute_result"
    }
   ],
   "source": [
    "averge_price"
   ]
  },
  {
   "cell_type": "code",
   "execution_count": 13,
   "id": "06f1541d-be0c-49e0-ad24-2e7cc8b3de43",
   "metadata": {},
   "outputs": [],
   "source": [
    "new_prices = [price-5 for price in prices]"
   ]
  },
  {
   "cell_type": "code",
   "execution_count": 98,
   "id": "a218e661-d5db-4f9c-8601-784246dee704",
   "metadata": {},
   "outputs": [
    {
     "data": {
      "text/plain": [
       "[25, 20, 35, 15, 15, 30, 45, 30]"
      ]
     },
     "execution_count": 98,
     "metadata": {},
     "output_type": "execute_result"
    }
   ],
   "source": [
    "new_prices"
   ]
  },
  {
   "cell_type": "code",
   "execution_count": 112,
   "id": "d0af08e1-9791-4e3f-a77e-10c7fb8800da",
   "metadata": {},
   "outputs": [],
   "source": [
    "for i in range(len(hairstyles)) :\n",
    "      total_revenue += prices[i] * last_week[i]"
   ]
  },
  {
   "cell_type": "code",
   "execution_count": 113,
   "id": "5aa6a2a3-46ae-4b09-995b-f75e38c8c37c",
   "metadata": {},
   "outputs": [
    {
     "data": {
      "text/plain": [
       "1085"
      ]
     },
     "execution_count": 113,
     "metadata": {},
     "output_type": "execute_result"
    }
   ],
   "source": [
    "total_revenue"
   ]
  },
  {
   "cell_type": "code",
   "execution_count": 114,
   "id": "b6c94ba5-b014-44e6-88f7-cf4e60564a1b",
   "metadata": {},
   "outputs": [],
   "source": [
    "average_daily_revenue = total_revenue/7"
   ]
  },
  {
   "cell_type": "code",
   "execution_count": 115,
   "id": "edf86265-d8b3-4336-bdac-952deb6e9b46",
   "metadata": {},
   "outputs": [
    {
     "data": {
      "text/plain": [
       "155.0"
      ]
     },
     "execution_count": 115,
     "metadata": {},
     "output_type": "execute_result"
    }
   ],
   "source": [
    "average_daily_revenue"
   ]
  },
  {
   "cell_type": "code",
   "execution_count": 116,
   "id": "b4d748c2-ee03-422f-8731-bacebfd4fb10",
   "metadata": {},
   "outputs": [],
   "source": [
    "cuts_under_30 = [hairstyles[i] for i in range(len(new_prices)) if new_prices[i] < 30]"
   ]
  },
  {
   "cell_type": "code",
   "execution_count": 117,
   "id": "291c5cca-c23d-4380-9673-1d0782671c65",
   "metadata": {},
   "outputs": [
    {
     "data": {
      "text/plain": [
       "['bouffant', 'pixie', 'crew', 'bowl']"
      ]
     },
     "execution_count": 117,
     "metadata": {},
     "output_type": "execute_result"
    }
   ],
   "source": [
    "cuts_under_30\n"
   ]
  },
  {
   "cell_type": "code",
   "execution_count": null,
   "id": "03ff1a44-5a0f-4432-997a-82a689a33e64",
   "metadata": {},
   "outputs": [],
   "source": []
  },
  {
   "cell_type": "code",
   "execution_count": null,
   "id": "a1d1a78d-b675-4ade-b3b5-f0d32c2f3197",
   "metadata": {},
   "outputs": [],
   "source": []
  }
 ],
 "metadata": {
  "kernelspec": {
   "display_name": "Python 3 (ipykernel)",
   "language": "python",
   "name": "python3"
  },
  "language_info": {
   "codemirror_mode": {
    "name": "ipython",
    "version": 3
   },
   "file_extension": ".py",
   "mimetype": "text/x-python",
   "name": "python",
   "nbconvert_exporter": "python",
   "pygments_lexer": "ipython3",
   "version": "3.12.4"
  }
 },
 "nbformat": 4,
 "nbformat_minor": 5
}
